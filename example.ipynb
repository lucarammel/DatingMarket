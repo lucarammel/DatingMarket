{
 "cells": [
  {
   "cell_type": "markdown",
   "metadata": {},
   "source": [
    "# 💘 Modeling a Dating Market: A Simulation with Swipes, Scores, and Strategy"
   ]
  },
  {
   "cell_type": "markdown",
   "metadata": {},
   "source": [
    "## 1. Motivation\n",
    "\n",
    "In online dating, people make quick decisions—liking or skipping potential matches based on a mix of instinct and strategy. But how do attractiveness, behavior, and visibility evolve in such an ecosystem?\n",
    "\n",
    "This notebook presents a simplified simulation of a dating market that tries to answer:\n",
    "\n",
    "* How does initial attractiveness impact match rates?\n",
    "* How does being liked change behavior over time?\n",
    "* What happens when the male-female ratio is skewed?"
   ]
  },
  {
   "cell_type": "markdown",
   "metadata": {},
   "source": [
    "## 2. Simulation Overview\n",
    "\n",
    "### 2.1 User: **The atomic agent** of the market\n",
    "Each user is either a Male or Female, and has:\n",
    "\n",
    "* An attractiveness_score (between 0.2–0.8)\n",
    "* A like_rate: how likely they are to like others\n",
    "* A likes_limit: number of swipes per simulation round\n",
    "* Dynamic fields like matches, liked_by, seen_users, etc.\n",
    "\n",
    "### 2.2 Modeling Assumptions\n",
    "\n",
    "* **Initial distributions**: \n",
    "    * Attractiveness is sampled from a Gaussian around 0.5, clipped between [0.2, 0.8].  \n",
    "    * Like rate similarly sampled, reflecting varied user pickiness.\n",
    "\n",
    "* **Gender targeting**: Heterosexual preference is assumed (each user looks for opposite-gender profiles).\n",
    "\n",
    "* **Visibility & popularity bias**: Users don’t see all profiles. Instead, a weighted random sample favors more attractive profiles using a configurable probability_ratio_between_best_and_worth.\n",
    "\n",
    "* **Swipe decision:**\n",
    "A user swipes right on another user with probability:\n",
    "$$P(\\text{like}) = \\min\\left(1 + \\text{like\\_rate} \\cdot \\log(\\text{other.attractiveness}),\\ 1\\right)$$\n",
    "If a random number < $P(\\text{like})$, then it's a **like**.\n",
    "\n",
    "* **Match detection:**\n",
    "If **both users like each other**, it's a match:\n",
    "$$\\text{match} \\iff u \\in v.\\text{liked\\_users} \\land v \\in u.\\text{liked\\_users}$$\n",
    "\n",
    "* **Match rate:**\n",
    "Updated daily as:\n",
    "$$\\text{match\\_rate} = \\frac{\\# \\text{matches}}{\\# \\text{liked\\_users}} \\quad (\\text{if liked > 0})$$\n",
    "\n",
    "* **Like rate evolution:**\n",
    "Adjusted randomly based on match rate:\n",
    "$$\\text{like\\_rate} \\leftarrow \n",
    "\\begin{cases} \n",
    "\\text{like\\_rate} - \\text{like\\_rate} \\cdot |\\mathcal{N}(0, 0.1)| & \\text{if match\\_rate} \\geq 0.33 \\\\ \n",
    "\\text{like\\_rate} + \\text{like\\_rate} \\cdot |\\mathcal{N}(0, 0.1)| & \\text{if match\\_rate} \\leq 0.1 \\\\ \n",
    "\\text{(no change)} & \\text{otherwise} \n",
    "\\end{cases}$$\n",
    "$$\\text{like\\_rate} \\in [0, 1]$$\n",
    "\n",
    "* **Like limit evolution:**\n",
    "Like budget is adjusted daily:\n",
    "    * If match rate is high ($\\geq 0.33$): decrease limit.\n",
    "    * If match rate is low ($\\leq 0.1$): increase limit.\n",
    "\n",
    "$$\\text{likes\\_limit} \\leftarrow \\text{likes\\_limit} \\pm \\text{likes\\_limit} \\cdot |\\mathcal{N}(0, 1)|$$\n",
    "\n",
    "Clipped between `lower_likes_limit` and `upper_likes_limit`."
   ]
  },
  {
   "cell_type": "code",
   "execution_count": null,
   "metadata": {},
   "outputs": [],
   "source": [
    "from dating_market import Market\n",
    "\n",
    "m = Market(n_users=3000, male_ratio=0.7, n_days=15)\n",
    "m.run()"
   ]
  },
  {
   "cell_type": "markdown",
   "metadata": {},
   "source": [
    "Each user is shown a sample of unseen users of the opposite gender, makes like/dislike decisions, and potential matches are updated. Users also update their behavior based on recent interaction stats."
   ]
  },
  {
   "cell_type": "code",
   "execution_count": null,
   "metadata": {},
   "outputs": [],
   "source": [
    "m.get_users_data().sort(\"match_rate\", descending=True)"
   ]
  },
  {
   "cell_type": "markdown",
   "metadata": {},
   "source": [
    "This returns a table of stats for each user:\n",
    "\n",
    "* **like_rate_start** vs **like_rate_end**: how preferences evolved\n",
    "\n",
    "* **matches**, **likes**, **liked_by**: behavioral outcomes\n",
    "\n",
    "* **seen_by**, **liked_by_rate**: visibility and popularity indicators"
   ]
  },
  {
   "cell_type": "code",
   "execution_count": null,
   "metadata": {},
   "outputs": [],
   "source": [
    "m.get_market_data().sort(\"matches_cumulative\", descending=True)"
   ]
  },
  {
   "cell_type": "code",
   "execution_count": null,
   "metadata": {},
   "outputs": [],
   "source": [
    "m.plot_scatter(\n",
    "    df=m.get_users_data(),\n",
    "    x=\"match_rate\",\n",
    "    y=\"liked_by_rate\",\n",
    "    title=\"Match rate vs Liked by rate\",\n",
    "    color=\"gender\",\n",
    "    slider_column=\"male_ratio\",\n",
    "    width=900,\n",
    "    height=600,\n",
    ")"
   ]
  },
  {
   "cell_type": "code",
   "execution_count": null,
   "metadata": {},
   "outputs": [],
   "source": [
    "m.plot_scatter(\n",
    "    df=m.get_users_data(),\n",
    "    x=\"attractiveness_score\",\n",
    "    y=\"match_rate\",\n",
    "    title=\"Match rate vs Attractiveness score\",\n",
    "    color=\"gender\",\n",
    "    slider_column=\"male_ratio\",\n",
    "    width=900,\n",
    "    height=600,\n",
    ")"
   ]
  },
  {
   "cell_type": "code",
   "execution_count": null,
   "metadata": {},
   "outputs": [],
   "source": [
    "m.plot_scatter(\n",
    "    df=m.get_users_data(),\n",
    "    x=\"attractiveness_score\",\n",
    "    y=\"liked_by_rate\",\n",
    "    title=\"Liked by rate vs Attractiveness score\",\n",
    "    color=\"gender\",\n",
    "    slider_column=\"male_ratio\",\n",
    "    width=900,\n",
    "    height=600,\n",
    ")"
   ]
  },
  {
   "cell_type": "code",
   "execution_count": null,
   "metadata": {},
   "outputs": [],
   "source": []
  }
 ],
 "metadata": {
  "kernelspec": {
   "display_name": "datingappsimulation",
   "language": "python",
   "name": "python3"
  },
  "language_info": {
   "codemirror_mode": {
    "name": "ipython",
    "version": 3
   },
   "file_extension": ".py",
   "mimetype": "text/x-python",
   "name": "python",
   "nbconvert_exporter": "python",
   "pygments_lexer": "ipython3",
   "version": "3.9.18"
  }
 },
 "nbformat": 4,
 "nbformat_minor": 2
}
